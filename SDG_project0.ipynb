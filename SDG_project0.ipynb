{
 "cells": [
  {
   "cell_type": "markdown",
   "id": "cf81da85-cacf-470e-9b00-74f677c87117",
   "metadata": {},
   "source": [
    "<h1 align=\"center\">Classifying EU Sustainability Performance</h1>"
   ]
  },
  {
   "cell_type": "markdown",
   "id": "52136860-b345-48f0-8b97-329abc0970a3",
   "metadata": {},
   "source": [
    "<h2 align=\"center\">Part 1. Data Exploration & Understanding</h2>"
   ]
  },
  {
   "cell_type": "markdown",
   "id": "4e5ce004-d3e7-4066-ba00-b02cf089426d",
   "metadata": {},
   "source": [
    "<h3 align=\"center\"> 1.1. Loading and Data Wrangling </h3>\n",
    "   "
   ]
  },
  {
   "cell_type": "markdown",
   "id": "78b91a1f-557b-4c16-ba61-66491b6f2c36",
   "metadata": {},
   "source": [
    "---\n",
    "<b> <i> Description of the variables (methodology of the Europe Sustainable Development Report 2025)</i></b><br>"
   ]
  },
  {
   "cell_type": "code",
   "execution_count": 207,
   "id": "95dece62-ca9c-42e1-840a-982159d84129",
   "metadata": {
    "scrolled": true
   },
   "outputs": [],
   "source": [
    "import numpy as np\n",
    "import pandas as pd\n",
    "df_original = pd.read_csv(\"D:/Portfolio/eu_sdg_performance_data.csv\")"
   ]
  },
  {
   "cell_type": "markdown",
   "id": "c3863f76-e3c9-4f90-9078-d2bd063c874d",
   "metadata": {},
   "source": [
    "| Variable              | Description                                                    | Unit in dataset                                 |\n",
    "| --------------------- | -------------------------------------------------------------- | ----------------------------------------------- |\n",
    "| **year**              | Year of observation                                            | year (2015–2024)                                |\n",
    "| **sdgi\\_score**       | Overall SDG Index (aggregate sustainability performance score) | scale 0–100                                     |\n",
    "| **performance\\_tier** | Sustainability performance classification                      | 0 = Needs Improvement, 1 = Good, 2 = Leaders    |\n",
    "| **sdg8\\_income**      | Average income per capita (GDP per capita, PPP)                | € per person (≈ 8,800 – 39,000)                 |\n",
    "| **sdg8\\_unemp**       | Unemployment rate                                              | % of population (2 – 26%)                       |\n",
    "| **sdg8\\_inwork**      | Employment-to-population ratio                                 | % of population (3 – 19%)                       |\n",
    "| **sdg9\\_eurd**        | Expenditure on R\\&D                                            | % of GDP (0 – 4%)                               |\n",
    "| **sdg9\\_digital**     | Basic digital skills of the population                         | % of population (28 – 83%)                      |\n",
    "| **sdg9\\_bband**       | Broadband internet coverage                                    | % of households (59 – 100%)                     |\n",
    "| **sdg16\\_cpi**        | Corruption Perception Index (Transparency International)       | scale 0–100 (34 – 91; higher = less corruption) |\n",
    "| **sdg16\\_rsf**        | Press Freedom Index (Reporters Without Borders)                | scale 0–100 (32 – 95; higher = freer press)     |\n",
    "| **sdg16\\_crime**      | Crime/Safety index                                             | normalized index 1–26 (lower = less crime)      |\n",
    "| **sdg4\\_tertiary**    | Population with tertiary education                             | % of adults (23 – 63%)                          |\n",
    "| **sdg4\\_adult**       | Adult participation in education/training                      | % of adults (1 – 39%)                           |\n",
    "| **sdg7\\_eurenew**     | Share of renewable energy in final energy consumption          | % (5 – 84%)                                     |\n",
    "| **sdg13\\_co2gcp**     | CO₂ emissions per capita                                       | tons CO₂ per person (≈ 3 – 16.6)                |\n",
    "| **sdg5\\_empgap**      | Gender employment gap                                          | % difference between men and women (0 – 43%)    |\n",
    "| **sdg10\\_gini**       | Gini coefficient (income inequality)                           | 21 – 45 (scale typical for Europe)              |\n"
   ]
  },
  {
   "cell_type": "markdown",
   "id": "8cc3940e-5788-4782-a8a8-a88f0cc3e0ed",
   "metadata": {},
   "source": [
    "---\n",
    "<b> <i> Distinct values of the variable Country </i></b></br>\n"
   ]
  },
  {
   "cell_type": "code",
   "execution_count": 208,
   "id": "7ad77edc-6c94-44ea-9e21-61efc0260fc3",
   "metadata": {},
   "outputs": [
    {
     "name": "stdout",
     "output_type": "stream",
     "text": [
      "'Austria'\n",
      "'Baltic States'\n",
      "'Belgium'\n",
      "'Bulgaria'\n",
      "'Candidate Countries'\n",
      "'Central and Eastern Europe'\n",
      "'Croatia'\n",
      "'Cyprus'\n",
      "'Czechia'\n",
      "'Denmark'\n",
      "'EFTA Countries'\n",
      "'Estonia'\n",
      "'European Union'\n",
      "'Finland'\n",
      "'France'\n",
      "'Germany'\n",
      "'Greece'\n",
      "'Hungary'\n",
      "'Iceland'\n",
      "'Ireland'\n",
      "'Italy'\n",
      "'Latvia'\n",
      "'Lithuania'\n",
      "'Luxembourg'\n",
      "'Malta'\n",
      "'Netherlands'\n",
      "'North Macedonia'\n",
      "'Northern Europe'\n",
      "'Norway'\n",
      "'Poland'\n",
      "'Portugal'\n",
      "'Romania'\n",
      "'Serbia'\n",
      "'Slovak Republic'\n",
      "'Slovenia'\n",
      "'Southern Europe'\n",
      "'Spain'\n",
      "'Sweden'\n",
      "'Switzerland'\n",
      "'TŸrkiye'\n",
      "'United Kingdom'\n",
      "'Western Europe'\n",
      "\n",
      "Number of unique values in column 'Country': 42\n"
     ]
    }
   ],
   "source": [
    "countries = sorted(df_original[\"Country\"].unique())\n",
    "for c in countries:\n",
    "    print(repr(c)) \n",
    "print(\"\\nNumber of unique values in column 'Country':\", df_original[\"Country\"].nunique())"
   ]
  },
  {
   "cell_type": "markdown",
   "id": "f3a36258-7035-46b1-b4ab-5a78f5bcbbc4",
   "metadata": {},
   "source": [
    "---\n",
    "</br>\n",
    "<b> <i> \"All in the same pot\" =)</i></b></br>\n",
    "\n",
    "</br>\n",
    "\n",
    "\n",
    "In the prepared dataset, the Country column contained a mix of individual countries (e.g., Germany, Poland, Romania) and regional aggregations/unions (European Union, Baltic States, Candidate Countries, etc.). There are only 42 unique values of the variable \"Country\", 8 of which are not individual countries but Europe Subregions.\n",
    "\n",
    "<b>Potential problems:</b>\n",
    "1. <b>Inconsistent Granularity:</b> the dataset contains information at two different levels of detail: individual countries (low aggregation) and regional groups (high aggregation). This inconsistency can distort the analysis, as the model would be trained on data with varying levels of granularity.\n",
    "2. <b>Alignment with Project Goal:</b> the main project goal is to classify individual European countries. Including aggregated data that describes  Europe Subregions contradicts this objective. Removing this data ensures the model focuses exclusively on the features relevant to classifying individual nations.\n",
    "3. <b>Bias:</b>  Europe Subregions represents average indicators for entire regions and does not reflect the unique characteristics of any single country. Using it can introduce bias, as the model would be trained on \"hybrid\" data points that are not representative of the real classification subjects.\n",
    "\n",
    "Europe Subregions data simplifies the model and makes it more understandable. This allows us to be confident that the conclusions we draw from the model (for example, identifying key factors influencing the classification) truly relate to individual countries and not to the averaged characteristics of entire Europe Subregions. This makes our results more reliable and meaningful for decision-making.\n",
    "\n",
    "So, <b>~340 observations</b> (34 countries × 10 years)"
   ]
  },
  {
   "cell_type": "code",
   "execution_count": 209,
   "id": "24030341-182a-40b5-8965-569d6a5f9583",
   "metadata": {},
   "outputs": [],
   "source": [
    "regions_to_exclude = [\n",
    "    'Baltic States',\n",
    "    'Candidate Countries',\n",
    "    'Central and Eastern Europe',\n",
    "    'EFTA Countries',\n",
    "    'European Union',\n",
    "    'Northern Europe',\n",
    "    'Southern Europe',\n",
    "    'Western Europe'\n",
    "]\n",
    "df= df_original[~df_original['Country'].isin(regions_to_exclude)].copy()\n",
    "df_regions = df_original[df_original['Country'].isin(regions_to_exclude)].copy()"
   ]
  },
  {
   "cell_type": "markdown",
   "id": "bd077871-7ba5-4c93-9523-0523598469b7",
   "metadata": {},
   "source": [
    "Replace the county's name:"
   ]
  },
  {
   "cell_type": "code",
   "execution_count": 210,
   "id": "a1a7fec3-45a4-4ebe-b6c5-da056323f856",
   "metadata": {},
   "outputs": [],
   "source": [
    "df[\"Country\"] = df[\"Country\"].replace(\"TŸrkiye\", \"Turkey\")"
   ]
  },
  {
   "cell_type": "markdown",
   "id": "e59a226a-e303-4d9f-90b9-e28bf83bbc9a",
   "metadata": {},
   "source": [
    "</br>For the following analysis, we need to properly impute all NaN values.\n",
    "Let's find the number of NaN values and the countries/columns that contain them."
   ]
  },
  {
   "cell_type": "code",
   "execution_count": 211,
   "id": "1b835dca-d8a7-4ee8-9a46-d27bdda03d29",
   "metadata": {},
   "outputs": [
    {
     "name": "stdout",
     "output_type": "stream",
     "text": [
      "<class 'pandas.core.frame.DataFrame'>\n",
      "Index: 340 entries, 0 to 409\n",
      "Data columns (total 19 columns):\n",
      " #   Column            Non-Null Count  Dtype  \n",
      "---  ------            --------------  -----  \n",
      " 0   Country           340 non-null    object \n",
      " 1   year              340 non-null    int64  \n",
      " 2   sdgi_score        340 non-null    float64\n",
      " 3   performance_tier  340 non-null    int64  \n",
      " 4   sdg8_income       330 non-null    float64\n",
      " 5   sdg8_unemp        330 non-null    float64\n",
      " 6   sdg8_inwork       340 non-null    int64  \n",
      " 7   sdg9_eurd         340 non-null    int64  \n",
      " 8   sdg9_digital      330 non-null    float64\n",
      " 9   sdg9_bband        340 non-null    int64  \n",
      " 10  sdg16_cpi         340 non-null    int64  \n",
      " 11  sdg16_rsf         340 non-null    int64  \n",
      " 12  sdg16_crime       340 non-null    int64  \n",
      " 13  sdg4_tertiary     340 non-null    int64  \n",
      " 14  sdg4_adult        340 non-null    int64  \n",
      " 15  sdg7_eurenew      310 non-null    float64\n",
      " 16  sdg13_co2gcp      340 non-null    float64\n",
      " 17  sdg5_empgap       330 non-null    float64\n",
      " 18  sdg10_gini        340 non-null    int64  \n",
      "dtypes: float64(7), int64(11), object(1)\n",
      "memory usage: 53.1+ KB\n",
      "None\n"
     ]
    }
   ],
   "source": [
    "print(df.info())"
   ]
  },
  {
   "cell_type": "code",
   "execution_count": 212,
   "id": "ce49803f-b39d-4515-aa9f-e4d57c3bd000",
   "metadata": {},
   "outputs": [
    {
     "name": "stdout",
     "output_type": "stream",
     "text": [
      "\n",
      "NaN per column:\n",
      " Country              0\n",
      "year                 0\n",
      "sdgi_score           0\n",
      "performance_tier     0\n",
      "sdg8_income         10\n",
      "sdg8_unemp          10\n",
      "sdg8_inwork          0\n",
      "sdg9_eurd            0\n",
      "sdg9_digital        10\n",
      "sdg9_bband           0\n",
      "sdg16_cpi            0\n",
      "sdg16_rsf            0\n",
      "sdg16_crime          0\n",
      "sdg4_tertiary        0\n",
      "sdg4_adult           0\n",
      "sdg7_eurenew        30\n",
      "sdg13_co2gcp         0\n",
      "sdg5_empgap         10\n",
      "sdg10_gini           0\n",
      "dtype: int64\n",
      "\n",
      "Total number of NaN: 70\n"
     ]
    }
   ],
   "source": [
    "nan_per_column = df.isnull().sum()\n",
    "print(\"\\nNaN per column:\\n\", nan_per_column)\n",
    "total_nan = df.isnull().sum().sum()\n",
    "print(\"\\nTotal number of NaN:\", total_nan)"
   ]
  },
  {
   "cell_type": "code",
   "execution_count": 224,
   "id": "b0e9549c-5ab2-4120-a8a6-892cb7140c7e",
   "metadata": {},
   "outputs": [
    {
     "name": "stdout",
     "output_type": "stream",
     "text": [
      "\n",
      "Countries with missing values (NaN):\n"
     ]
    }
   ],
   "source": [
    "missing_dict = (\n",
    "    df.drop(columns=[\"Country\"])\n",
    "      .groupby(df[\"Country\"])\n",
    "      .apply(lambda g: g.isna().any()[lambda x: x].index.tolist())\n",
    "      .to_dict()\n",
    ") \n",
    "missing_nonempty = {k: v for k, v in missing_dict.items() if v}\n",
    "print(\"\\nCountries with missing values (NaN):\")\n",
    "for country, cols in missing_nonempty.items():\n",
    "    print(f\"\\t{country}: {cols}\")\n"
   ]
  },
  {
   "cell_type": "markdown",
   "id": "0f0ed458-a7e3-419f-99ca-193a441982c2",
   "metadata": {},
   "source": [
    "---\n",
    "\n",
    "<b> <i> \"So what do we get instead?\" </i></b></br>\n",
    "\n",
    "\n",
    "Unfortunately, we cannot use real data from other sources (the World Bank or Eurostat), as the research methodologies different and the required data are simply unavailable.\n",
    "That's why we will follow the strategy: <b>imputation will be based on the Europe Subregionals values</b>.\n",
    "\n",
    "<b>df</b> — the main dataset with individual countries</br>\n",
    "<b>df_regions</b> — the dataset with Europe Subregionals values (Candidate Countries, EFTA Countries, ...). \n",
    "\n",
    "The <b>df_regions</b> subset already contains <b>averaged indicators</b> for the corresponding country groups.</br> \n",
    "Therefore, <b>during imputation we will substitute the values for the respective year from the appropriate Europe Subregion</b> (according to \"Full data base\" info):\n",
    "\n",
    "- North Macedonia → Candidate Countries\n",
    "- Switzerland → EFTA Countries\n",
    "- Turkey → Candidate Countries\n",
    "- United Kingdom → Western Europe"
   ]
  },
  {
   "cell_type": "code",
   "execution_count": 223,
   "id": "f95dbc38-4772-4520-921d-19e0b8a27cb6",
   "metadata": {},
   "outputs": [],
   "source": [
    "#This dictionary defines the mapping between an individual country and its Europe Subregion.\n",
    "union_map = {\n",
    "    'North Macedonia': 'Candidate Countries',\n",
    "    'Switzerland': 'EFTA Countries',\n",
    "    'Turkey': 'Candidate Countries',\n",
    "    'United Kingdom': 'Western Europe',\n",
    "}\n",
    "#This dictionary specifies which variables are missing for each country\n",
    "missing_nonempty\n",
    "\n",
    "#We will create new function impute_from_unions\n",
    "def impute_from_unions(df, df_regions, union_map, missing_nonempty,\n",
    "                       country_col='Country', year_col='year'):\n",
    "    out = df.copy()\n",
    "    for country, cols in missing_nonempty.items():\n",
    "        union = union_map.get(country)\n",
    "        if not union:\n",
    "            continue\n",
    "        for col in cols:\n",
    "            if col not in out.columns or col not in df_regions.columns:\n",
    "                continue\n",
    "            union_series = (\n",
    "                df_regions[df_regions[country_col] == union][[year_col, col]]\n",
    "                .dropna()\n",
    "                .set_index(year_col)[col]\n",
    "            )\n",
    "            if union_series.empty:\n",
    "                continue\n",
    "            mask = (out[country_col] == country) & (out[col].isna())\n",
    "            out.loc[mask, col] = out.loc[mask, year_col].map(union_series)\n",
    "    return out\n",
    "\n",
    "\n",
    "df = impute_from_unions(df, df_regions, union_map, missing_nonempty)"
   ]
  },
  {
   "cell_type": "markdown",
   "id": "634c1d91-06cc-450a-aecb-78fe9e1c267f",
   "metadata": {},
   "source": [
    "Let's revise the results of data preprocessing"
   ]
  },
  {
   "cell_type": "code",
   "execution_count": 222,
   "id": "fbc386f5-2750-4aea-a7b3-14d5846d78f1",
   "metadata": {},
   "outputs": [
    {
     "name": "stdout",
     "output_type": "stream",
     "text": [
      "\n",
      "Total number of NaN: 0\n"
     ]
    }
   ],
   "source": [
    "total_nan = df.isnull().sum().sum()\n",
    "print(\"\\nTotal number of NaN:\", total_nan)"
   ]
  },
  {
   "cell_type": "code",
   "execution_count": 215,
   "id": "26f5c615-3739-4045-bae6-a4ef45d08253",
   "metadata": {},
   "outputs": [
    {
     "name": "stdout",
     "output_type": "stream",
     "text": [
      "C:\\Users\\lavre\n"
     ]
    }
   ],
   "source": [
    "#We will save cleaned date to new CSV file:\n",
    "df.to_csv(\"cleaned_data.csv\", index=False, encoding=\"utf-8\")\n",
    "\n",
    "# where are my new CSV-file? =)\n",
    "import os\n",
    "print(os.getcwd())"
   ]
  },
  {
   "cell_type": "markdown",
   "id": "ac95a7d2-57f3-4272-ab33-edd063f365d3",
   "metadata": {},
   "source": [
    "<h3 align=\"center\"> 1.2. Exploratory Data Analysis for target variable</h3>"
   ]
  },
  {
   "cell_type": "code",
   "execution_count": 216,
   "id": "d52c78cd-2f5f-4374-912b-ce72970cab5f",
   "metadata": {},
   "outputs": [
    {
     "data": {
      "text/html": [
       "<div>\n",
       "<style scoped>\n",
       "    .dataframe tbody tr th:only-of-type {\n",
       "        vertical-align: middle;\n",
       "    }\n",
       "\n",
       "    .dataframe tbody tr th {\n",
       "        vertical-align: top;\n",
       "    }\n",
       "\n",
       "    .dataframe thead th {\n",
       "        text-align: right;\n",
       "    }\n",
       "</style>\n",
       "<table border=\"1\" class=\"dataframe\">\n",
       "  <thead>\n",
       "    <tr style=\"text-align: right;\">\n",
       "      <th></th>\n",
       "      <th>year</th>\n",
       "      <th>sdgi_score</th>\n",
       "      <th>performance_tier</th>\n",
       "      <th>sdg8_income</th>\n",
       "      <th>sdg8_unemp</th>\n",
       "      <th>sdg8_inwork</th>\n",
       "      <th>sdg9_eurd</th>\n",
       "      <th>sdg9_digital</th>\n",
       "      <th>sdg9_bband</th>\n",
       "      <th>sdg16_cpi</th>\n",
       "      <th>sdg16_rsf</th>\n",
       "      <th>sdg16_crime</th>\n",
       "      <th>sdg4_tertiary</th>\n",
       "      <th>sdg4_adult</th>\n",
       "      <th>sdg7_eurenew</th>\n",
       "      <th>sdg13_co2gcp</th>\n",
       "      <th>sdg5_empgap</th>\n",
       "      <th>sdg10_gini</th>\n",
       "    </tr>\n",
       "  </thead>\n",
       "  <tbody>\n",
       "    <tr>\n",
       "      <th>count</th>\n",
       "      <td>340.000000</td>\n",
       "      <td>340.000000</td>\n",
       "      <td>340.000000</td>\n",
       "      <td>340.000000</td>\n",
       "      <td>340.000000</td>\n",
       "      <td>340.000000</td>\n",
       "      <td>340.000000</td>\n",
       "      <td>340.000000</td>\n",
       "      <td>340.000000</td>\n",
       "      <td>340.000000</td>\n",
       "      <td>340.000000</td>\n",
       "      <td>340.000000</td>\n",
       "      <td>340.000000</td>\n",
       "      <td>340.000000</td>\n",
       "      <td>340.000000</td>\n",
       "      <td>340.000000</td>\n",
       "      <td>340.000000</td>\n",
       "      <td>340.000000</td>\n",
       "    </tr>\n",
       "    <tr>\n",
       "      <th>mean</th>\n",
       "      <td>2019.500000</td>\n",
       "      <td>69.460882</td>\n",
       "      <td>0.944118</td>\n",
       "      <td>21421.000000</td>\n",
       "      <td>7.488235</td>\n",
       "      <td>8.267647</td>\n",
       "      <td>1.626471</td>\n",
       "      <td>56.711765</td>\n",
       "      <td>88.370588</td>\n",
       "      <td>63.608824</td>\n",
       "      <td>78.441176</td>\n",
       "      <td>9.729412</td>\n",
       "      <td>42.750000</td>\n",
       "      <td>12.650000</td>\n",
       "      <td>27.817647</td>\n",
       "      <td>6.382471</td>\n",
       "      <td>10.676471</td>\n",
       "      <td>30.179412</td>\n",
       "    </tr>\n",
       "    <tr>\n",
       "      <th>std</th>\n",
       "      <td>2.876515</td>\n",
       "      <td>6.015150</td>\n",
       "      <td>0.599750</td>\n",
       "      <td>6236.088143</td>\n",
       "      <td>4.215771</td>\n",
       "      <td>2.949248</td>\n",
       "      <td>0.891722</td>\n",
       "      <td>14.256992</td>\n",
       "      <td>8.056824</td>\n",
       "      <td>15.744548</td>\n",
       "      <td>10.416946</td>\n",
       "      <td>5.033547</td>\n",
       "      <td>9.010605</td>\n",
       "      <td>8.476473</td>\n",
       "      <td>18.389164</td>\n",
       "      <td>2.453229</td>\n",
       "      <td>7.377797</td>\n",
       "      <td>4.574540</td>\n",
       "    </tr>\n",
       "    <tr>\n",
       "      <th>min</th>\n",
       "      <td>2015.000000</td>\n",
       "      <td>55.300000</td>\n",
       "      <td>0.000000</td>\n",
       "      <td>8814.000000</td>\n",
       "      <td>2.000000</td>\n",
       "      <td>3.000000</td>\n",
       "      <td>0.000000</td>\n",
       "      <td>28.000000</td>\n",
       "      <td>59.000000</td>\n",
       "      <td>34.000000</td>\n",
       "      <td>32.000000</td>\n",
       "      <td>1.000000</td>\n",
       "      <td>23.000000</td>\n",
       "      <td>1.000000</td>\n",
       "      <td>5.000000</td>\n",
       "      <td>2.980000</td>\n",
       "      <td>0.000000</td>\n",
       "      <td>21.000000</td>\n",
       "    </tr>\n",
       "    <tr>\n",
       "      <th>25%</th>\n",
       "      <td>2017.000000</td>\n",
       "      <td>66.475000</td>\n",
       "      <td>1.000000</td>\n",
       "      <td>16638.500000</td>\n",
       "      <td>5.000000</td>\n",
       "      <td>6.000000</td>\n",
       "      <td>1.000000</td>\n",
       "      <td>49.000000</td>\n",
       "      <td>83.750000</td>\n",
       "      <td>51.000000</td>\n",
       "      <td>72.000000</td>\n",
       "      <td>6.000000</td>\n",
       "      <td>35.000000</td>\n",
       "      <td>6.000000</td>\n",
       "      <td>16.000000</td>\n",
       "      <td>4.560000</td>\n",
       "      <td>6.000000</td>\n",
       "      <td>27.000000</td>\n",
       "    </tr>\n",
       "    <tr>\n",
       "      <th>50%</th>\n",
       "      <td>2019.500000</td>\n",
       "      <td>70.350000</td>\n",
       "      <td>1.000000</td>\n",
       "      <td>21005.000000</td>\n",
       "      <td>6.000000</td>\n",
       "      <td>8.000000</td>\n",
       "      <td>1.000000</td>\n",
       "      <td>56.000000</td>\n",
       "      <td>90.000000</td>\n",
       "      <td>61.000000</td>\n",
       "      <td>80.000000</td>\n",
       "      <td>9.000000</td>\n",
       "      <td>43.000000</td>\n",
       "      <td>10.500000</td>\n",
       "      <td>22.000000</td>\n",
       "      <td>5.900000</td>\n",
       "      <td>8.000000</td>\n",
       "      <td>30.000000</td>\n",
       "    </tr>\n",
       "    <tr>\n",
       "      <th>75%</th>\n",
       "      <td>2022.000000</td>\n",
       "      <td>73.200000</td>\n",
       "      <td>1.000000</td>\n",
       "      <td>25663.750000</td>\n",
       "      <td>9.000000</td>\n",
       "      <td>10.000000</td>\n",
       "      <td>2.000000</td>\n",
       "      <td>65.000000</td>\n",
       "      <td>94.000000</td>\n",
       "      <td>78.000000</td>\n",
       "      <td>86.250000</td>\n",
       "      <td>13.000000</td>\n",
       "      <td>49.000000</td>\n",
       "      <td>18.000000</td>\n",
       "      <td>33.000000</td>\n",
       "      <td>7.870000</td>\n",
       "      <td>13.000000</td>\n",
       "      <td>33.000000</td>\n",
       "    </tr>\n",
       "    <tr>\n",
       "      <th>max</th>\n",
       "      <td>2024.000000</td>\n",
       "      <td>81.700000</td>\n",
       "      <td>2.000000</td>\n",
       "      <td>39399.000000</td>\n",
       "      <td>26.000000</td>\n",
       "      <td>19.000000</td>\n",
       "      <td>4.000000</td>\n",
       "      <td>83.000000</td>\n",
       "      <td>100.000000</td>\n",
       "      <td>91.000000</td>\n",
       "      <td>95.000000</td>\n",
       "      <td>26.000000</td>\n",
       "      <td>63.000000</td>\n",
       "      <td>39.000000</td>\n",
       "      <td>84.000000</td>\n",
       "      <td>16.610000</td>\n",
       "      <td>43.000000</td>\n",
       "      <td>45.000000</td>\n",
       "    </tr>\n",
       "  </tbody>\n",
       "</table>\n",
       "</div>"
      ],
      "text/plain": [
       "              year  sdgi_score  performance_tier   sdg8_income  sdg8_unemp  \\\n",
       "count   340.000000  340.000000        340.000000    340.000000  340.000000   \n",
       "mean   2019.500000   69.460882          0.944118  21421.000000    7.488235   \n",
       "std       2.876515    6.015150          0.599750   6236.088143    4.215771   \n",
       "min    2015.000000   55.300000          0.000000   8814.000000    2.000000   \n",
       "25%    2017.000000   66.475000          1.000000  16638.500000    5.000000   \n",
       "50%    2019.500000   70.350000          1.000000  21005.000000    6.000000   \n",
       "75%    2022.000000   73.200000          1.000000  25663.750000    9.000000   \n",
       "max    2024.000000   81.700000          2.000000  39399.000000   26.000000   \n",
       "\n",
       "       sdg8_inwork   sdg9_eurd  sdg9_digital  sdg9_bband   sdg16_cpi  \\\n",
       "count   340.000000  340.000000    340.000000  340.000000  340.000000   \n",
       "mean      8.267647    1.626471     56.711765   88.370588   63.608824   \n",
       "std       2.949248    0.891722     14.256992    8.056824   15.744548   \n",
       "min       3.000000    0.000000     28.000000   59.000000   34.000000   \n",
       "25%       6.000000    1.000000     49.000000   83.750000   51.000000   \n",
       "50%       8.000000    1.000000     56.000000   90.000000   61.000000   \n",
       "75%      10.000000    2.000000     65.000000   94.000000   78.000000   \n",
       "max      19.000000    4.000000     83.000000  100.000000   91.000000   \n",
       "\n",
       "        sdg16_rsf  sdg16_crime  sdg4_tertiary  sdg4_adult  sdg7_eurenew  \\\n",
       "count  340.000000   340.000000     340.000000  340.000000    340.000000   \n",
       "mean    78.441176     9.729412      42.750000   12.650000     27.817647   \n",
       "std     10.416946     5.033547       9.010605    8.476473     18.389164   \n",
       "min     32.000000     1.000000      23.000000    1.000000      5.000000   \n",
       "25%     72.000000     6.000000      35.000000    6.000000     16.000000   \n",
       "50%     80.000000     9.000000      43.000000   10.500000     22.000000   \n",
       "75%     86.250000    13.000000      49.000000   18.000000     33.000000   \n",
       "max     95.000000    26.000000      63.000000   39.000000     84.000000   \n",
       "\n",
       "       sdg13_co2gcp  sdg5_empgap  sdg10_gini  \n",
       "count    340.000000   340.000000  340.000000  \n",
       "mean       6.382471    10.676471   30.179412  \n",
       "std        2.453229     7.377797    4.574540  \n",
       "min        2.980000     0.000000   21.000000  \n",
       "25%        4.560000     6.000000   27.000000  \n",
       "50%        5.900000     8.000000   30.000000  \n",
       "75%        7.870000    13.000000   33.000000  \n",
       "max       16.610000    43.000000   45.000000  "
      ]
     },
     "execution_count": 216,
     "metadata": {},
     "output_type": "execute_result"
    }
   ],
   "source": [
    "df.describe()"
   ]
  },
  {
   "cell_type": "code",
   "execution_count": 217,
   "id": "d92eebf4-3007-4b15-8199-08519d7dd640",
   "metadata": {},
   "outputs": [
    {
     "data": {
      "image/png": "[encoded data removed]",
      "text/plain": [
       "<Figure size 600x1000 with 1 Axes>"
      ]
     },
     "metadata": {},
     "output_type": "display_data"
    }
   ],
   "source": [
    "import seaborn as sns \n",
    "import matplotlib.pyplot as plt\n",
    "corr = df.corr(numeric_only=True)[\"sdgi_score\"].sort_values(ascending=False)\n",
    "plt.figure(figsize=(6, 10))\n",
    "sns.heatmap(corr.to_frame(), annot=True, cmap=\"coolwarm\", cbar=False)\n",
    "plt.title(\"Кореляція sdgi_score з іншими змінними\")\n",
    "plt.show()"
   ]
  },
  {
   "cell_type": "markdown",
   "id": "8754f080-15d7-4d95-b72f-c8cb4b046bda",
   "metadata": {},
   "source": [
    "1\tsdg9_eurd\t+0.78\tВитрати на R&D (% ВВП)\n",
    "2\tsdg16_cpi\t+0.77\tІндекс сприйняття корупції (менше корупції → вище SDG)\n",
    "3\tsdg9_digital\t+0.72\tЦифрові навички / цифровізація\n",
    "4\tsdg4_adult\t+0.71\tОсвіта дорослих\n",
    "5\tsdg9_bband\t+0.65\tШирокосмуговий інтернет\n",
    "6\tsdg16_rsf\t+0.65\tВерховенство права / свобода слова\n",
    "7\tsdg10_gini\t–0.64\tІндекс Джині — нерівність доходів\n",
    "8\tsdg8_income\t+0.60\tДохід на душу населення"
   ]
  },
  {
   "cell_type": "code",
   "execution_count": 218,
   "id": "d7f5d059-ca1d-4ea3-a3ac-3b07d7b84526",
   "metadata": {},
   "outputs": [
    {
     "data": {
      "text/plain": [
       "performance_tier\n",
       "0    60.191549\n",
       "1    70.412442\n",
       "2    78.146154\n",
       "Name: sdgi_score, dtype: float64"
      ]
     },
     "execution_count": 218,
     "metadata": {},
     "output_type": "execute_result"
    }
   ],
   "source": [
    "df.groupby(\"performance_tier\")[\"sdgi_score\"].mean()"
   ]
  },
  {
   "cell_type": "code",
   "execution_count": 219,
   "id": "c3ac12ad-25d9-4733-bb9f-fb70b8681134",
   "metadata": {},
   "outputs": [],
   "source": [
    "from sklearn.pipeline import Pipeline\n",
    "from sklearn.compose import ColumnTransformer\n",
    "from sklearn.preprocessing import StandardScaler\n",
    "from sklearn.model_selection import train_test_split\n",
    "from sklearn.linear_model import Ridge \n",
    "from sklearn.linear_model import LogisticRegression\n",
    "from sklearn import metrics\n",
    "from sklearn.metrics import confusion_matrix, classification_report"
   ]
  },
  {
   "cell_type": "markdown",
   "id": "70cf3675-21b9-40bb-a862-98410d6a3df0",
   "metadata": {},
   "source": [
    "Prepare the data for modeling - Splitting data"
   ]
  },
  {
   "cell_type": "code",
   "execution_count": 220,
   "id": "bac213e5-1356-43ee-8152-71c4850785ec",
   "metadata": {},
   "outputs": [
    {
     "name": "stdout",
     "output_type": "stream",
     "text": [
      "Accuracy: 0.8529411764705882\n",
      "F1 (weighted): 0.8552283905688259\n",
      "[[18  2  0]\n",
      " [ 4 56  6]\n",
      " [ 0  3 13]]\n",
      "              precision    recall  f1-score   support\n",
      "\n",
      "           0       0.82      0.90      0.86        20\n",
      "           1       0.92      0.85      0.88        66\n",
      "           2       0.68      0.81      0.74        16\n",
      "\n",
      "    accuracy                           0.85       102\n",
      "   macro avg       0.81      0.85      0.83       102\n",
      "weighted avg       0.86      0.85      0.86       102\n",
      "\n"
     ]
    }
   ],
   "source": [
    "X = df .drop([\"performance_tier\", \"sdgi_score\", \"Country\", \"year\"], axis=1) #delete targets_variabls and lables from X \n",
    "y = df [\"performance_tier\"]\n",
    "X_train, X_test, y_train, y_test = train_test_split(X, y, test_size=0.3, random_state=42)\n",
    "# Instantiate the model\n",
    "scaler = StandardScaler()\n",
    "X_train = scaler.fit_transform(X_train)\n",
    "X_test = scaler.transform(X_test)\n",
    "log_reg = LogisticRegression(solver=\"lbfgs\", max_iter=1000)\n",
    "log_reg.fit(X_train, y_train)\n",
    "y_pred=log_reg.predict(X_test)\n",
    "f1 = metrics.f1_score(y_test, y_pred, average=\"weighted\")\n",
    "accuracy = metrics.accuracy_score(y_test, y_pred)\n",
    "print(\"Accuracy:\", accuracy)\n",
    "print(\"F1 (weighted):\", f1)\n",
    "print(confusion_matrix(y_test, y_pred))\n",
    "print(classification_report(y_test, y_pred))"
   ]
  },
  {
   "cell_type": "markdown",
   "id": "aaf0c666-81e7-48dc-a1c2-8d61090e63af",
   "metadata": {},
   "source": [
    "The model distinguishes classes 0 (Needs Improvement) and 1 (Good Performers) very well.\n",
    "The main challenges are with class 2 (Leaders): there are fewer examples in the dataset, and some of them are misclassified as “Good Performers.”\n",
    "Overall, the model demonstrates high performance (Accuracy ~0.85, F1 ~0.86), exceeding the required threshold of 0.75 specified in the project."
   ]
  },
  {
   "cell_type": "code",
   "execution_count": 221,
   "id": "071eff09-512d-4159-8053-cba63039fc09",
   "metadata": {},
   "outputs": [
    {
     "name": "stdout",
     "output_type": "stream",
     "text": [
      "          Feature  MeanAbsCoef\n",
      "4    sdg9_digital     1.036057\n",
      "3       sdg9_eurd     0.864484\n",
      "7       sdg16_rsf     0.850876\n",
      "6       sdg16_cpi     0.827940\n",
      "13    sdg5_empgap     0.806516\n",
      "9   sdg4_tertiary     0.765447\n",
      "8     sdg16_crime     0.749542\n",
      "0     sdg8_income     0.737146\n",
      "11   sdg7_eurenew     0.606830\n",
      "14     sdg10_gini     0.525476\n"
     ]
    }
   ],
   "source": [
    "# Масив коефіцієнтів: [n_classes x n_features]\n",
    "coefs = log_reg.coef_\n",
    "\n",
    "# Таблиця з ознаками та їх середнім впливом (по модулях)\n",
    "coef_df = pd.DataFrame({\n",
    "    \"Feature\": X.columns,\n",
    "    \"MeanAbsCoef\": np.mean(np.abs(coefs), axis=0)  # середній абсолютний коеф по класах\n",
    "}).sort_values(by=\"MeanAbsCoef\", ascending=False)\n",
    "\n",
    "print(coef_df.head(10))"
   ]
  },
  {
   "cell_type": "markdown",
   "id": "e119d124-4788-4c35-8765-25e57b36d34f",
   "metadata": {},
   "source": [
    "Overlap:\n",
    "    sdg9_digital (digitalization)\n",
    "    sdg9_eurd (innovation & R&D)\n",
    "    sdg16_cpi (anti-corruption)\n",
    "These factors emerged as key both from simple correlation analysis and from the logistic regression model.\n",
    "\n",
    "Differences:\n",
    "Logistic regression additionally highlighted:\n",
    "    sdg16_rsf (rule of law / freedom of speech)\n",
    "    sdg5_empgap (gender employment gap)\n",
    "Correlation, on the other hand, emphasized:\n",
    "    sdg4_adult (adult education)\n",
    "    sdg9_bband (broadband Internet access)."
   ]
  },
  {
   "cell_type": "code",
   "execution_count": null,
   "id": "b7664338-1603-47ab-8785-9f39e8c35089",
   "metadata": {},
   "outputs": [],
   "source": []
  }
 ],
 "metadata": {
  "kernelspec": {
   "display_name": "Python 3 (ipykernel)",
   "language": "python",
   "name": "python3"
  },
  "language_info": {
   "codemirror_mode": {
    "name": "ipython",
    "version": 3
   },
   "file_extension": ".py",
   "mimetype": "text/x-python",
   "name": "python",
   "nbconvert_exporter": "python",
   "pygments_lexer": "ipython3",
   "version": "3.12.7"
  }
 },
 "nbformat": 4,
 "nbformat_minor": 5
}
